{
 "cells": [
  {
   "cell_type": "markdown",
   "metadata": {},
   "source": [
    "## Análisis del Dataset MovieLens"
   ]
  },
  {
   "cell_type": "markdown",
   "metadata": {},
   "source": [
    "Objetivos del Práctico:\n",
    "    \n",
    "    1) Obtener reglas de asociación entre películas.\n",
    "        derivar reglas de la forma {A} -> {B}\n",
    "    2) Aplicar diferentes métricas de ordenamiento.\n",
    "    3) Hacer un pequeño informe.\n",
    "    "
   ]
  },
  {
   "cell_type": "markdown",
   "metadata": {},
   "source": [
    "  **Primero se importan las librerias necesarias**"
   ]
  },
  {
   "cell_type": "code",
   "execution_count": 1,
   "metadata": {},
   "outputs": [],
   "source": [
    "import numpy as np\n",
    "import pandas as pd\n",
    "from datetime import datetime\n",
    "from itertools import combinations, groupby\n",
    "from collections import Counter\n",
    "from efficient_apriori import apriori"
   ]
  },
  {
   "cell_type": "markdown",
   "metadata": {},
   "source": [
    "  **En segundo lugar, se leen los dataset y se exploran los datos**"
   ]
  },
  {
   "cell_type": "code",
   "execution_count": 2,
   "metadata": {},
   "outputs": [],
   "source": [
    "# Sample data\n",
    "movies = pd.read_csv('ml-20m/movies.csv', encoding = 'utf8')\n",
    "ratings = pd.read_csv('ml-20m/ratings.csv', encoding = 'utf8')\n",
    "#links = pd.read_csv('ml-20m/links.csv')\n",
    "#gen_score = pd.read_csv('ml-20m/genome-scores.csv')\n",
    "#gen_tags = pd.read_csv('ml-20m/genome-tags.csv')\n",
    "#tags = pd.read_csv('ml-20m/tags.csv')"
   ]
  },
  {
   "cell_type": "code",
   "execution_count": 3,
   "metadata": {},
   "outputs": [
    {
     "name": "stdout",
     "output_type": "stream",
     "text": [
      "Movies:\n"
     ]
    },
    {
     "data": {
      "text/html": [
       "<div>\n",
       "<style scoped>\n",
       "    .dataframe tbody tr th:only-of-type {\n",
       "        vertical-align: middle;\n",
       "    }\n",
       "\n",
       "    .dataframe tbody tr th {\n",
       "        vertical-align: top;\n",
       "    }\n",
       "\n",
       "    .dataframe thead th {\n",
       "        text-align: right;\n",
       "    }\n",
       "</style>\n",
       "<table border=\"1\" class=\"dataframe\">\n",
       "  <thead>\n",
       "    <tr style=\"text-align: right;\">\n",
       "      <th></th>\n",
       "      <th>movieId</th>\n",
       "      <th>title</th>\n",
       "      <th>genres</th>\n",
       "    </tr>\n",
       "  </thead>\n",
       "  <tbody>\n",
       "    <tr>\n",
       "      <th>0</th>\n",
       "      <td>1</td>\n",
       "      <td>Toy Story (1995)</td>\n",
       "      <td>Adventure|Animation|Children|Comedy|Fantasy</td>\n",
       "    </tr>\n",
       "    <tr>\n",
       "      <th>1</th>\n",
       "      <td>2</td>\n",
       "      <td>Jumanji (1995)</td>\n",
       "      <td>Adventure|Children|Fantasy</td>\n",
       "    </tr>\n",
       "    <tr>\n",
       "      <th>2</th>\n",
       "      <td>3</td>\n",
       "      <td>Grumpier Old Men (1995)</td>\n",
       "      <td>Comedy|Romance</td>\n",
       "    </tr>\n",
       "    <tr>\n",
       "      <th>3</th>\n",
       "      <td>4</td>\n",
       "      <td>Waiting to Exhale (1995)</td>\n",
       "      <td>Comedy|Drama|Romance</td>\n",
       "    </tr>\n",
       "    <tr>\n",
       "      <th>4</th>\n",
       "      <td>5</td>\n",
       "      <td>Father of the Bride Part II (1995)</td>\n",
       "      <td>Comedy</td>\n",
       "    </tr>\n",
       "  </tbody>\n",
       "</table>\n",
       "</div>"
      ],
      "text/plain": [
       "   movieId                               title  \\\n",
       "0        1                    Toy Story (1995)   \n",
       "1        2                      Jumanji (1995)   \n",
       "2        3             Grumpier Old Men (1995)   \n",
       "3        4            Waiting to Exhale (1995)   \n",
       "4        5  Father of the Bride Part II (1995)   \n",
       "\n",
       "                                        genres  \n",
       "0  Adventure|Animation|Children|Comedy|Fantasy  \n",
       "1                   Adventure|Children|Fantasy  \n",
       "2                               Comedy|Romance  \n",
       "3                         Comedy|Drama|Romance  \n",
       "4                                       Comedy  "
      ]
     },
     "execution_count": 3,
     "metadata": {},
     "output_type": "execute_result"
    }
   ],
   "source": [
    "print(\"Movies:\")\n",
    "movies.head()"
   ]
  },
  {
   "cell_type": "code",
   "execution_count": 4,
   "metadata": {},
   "outputs": [
    {
     "name": "stdout",
     "output_type": "stream",
     "text": [
      "<class 'pandas.core.frame.DataFrame'>\n",
      "RangeIndex: 27278 entries, 0 to 27277\n",
      "Data columns (total 3 columns):\n",
      "movieId    27278 non-null int64\n",
      "title      27278 non-null object\n",
      "genres     27278 non-null object\n",
      "dtypes: int64(1), object(2)\n",
      "memory usage: 639.5+ KB\n"
     ]
    }
   ],
   "source": [
    "movies.info()"
   ]
  },
  {
   "cell_type": "code",
   "execution_count": 5,
   "metadata": {},
   "outputs": [
    {
     "data": {
      "text/html": [
       "<div>\n",
       "<style scoped>\n",
       "    .dataframe tbody tr th:only-of-type {\n",
       "        vertical-align: middle;\n",
       "    }\n",
       "\n",
       "    .dataframe tbody tr th {\n",
       "        vertical-align: top;\n",
       "    }\n",
       "\n",
       "    .dataframe thead th {\n",
       "        text-align: right;\n",
       "    }\n",
       "</style>\n",
       "<table border=\"1\" class=\"dataframe\">\n",
       "  <thead>\n",
       "    <tr style=\"text-align: right;\">\n",
       "      <th></th>\n",
       "      <th>movieId</th>\n",
       "      <th>title</th>\n",
       "      <th>genres</th>\n",
       "    </tr>\n",
       "  </thead>\n",
       "  <tbody>\n",
       "    <tr>\n",
       "      <th>count</th>\n",
       "      <td>27278.000000</td>\n",
       "      <td>27278</td>\n",
       "      <td>27278</td>\n",
       "    </tr>\n",
       "    <tr>\n",
       "      <th>unique</th>\n",
       "      <td>NaN</td>\n",
       "      <td>27262</td>\n",
       "      <td>1342</td>\n",
       "    </tr>\n",
       "    <tr>\n",
       "      <th>top</th>\n",
       "      <td>NaN</td>\n",
       "      <td>Chaos (2005)</td>\n",
       "      <td>Drama</td>\n",
       "    </tr>\n",
       "    <tr>\n",
       "      <th>freq</th>\n",
       "      <td>NaN</td>\n",
       "      <td>2</td>\n",
       "      <td>4520</td>\n",
       "    </tr>\n",
       "    <tr>\n",
       "      <th>mean</th>\n",
       "      <td>59855.480570</td>\n",
       "      <td>NaN</td>\n",
       "      <td>NaN</td>\n",
       "    </tr>\n",
       "    <tr>\n",
       "      <th>std</th>\n",
       "      <td>44429.314697</td>\n",
       "      <td>NaN</td>\n",
       "      <td>NaN</td>\n",
       "    </tr>\n",
       "    <tr>\n",
       "      <th>min</th>\n",
       "      <td>1.000000</td>\n",
       "      <td>NaN</td>\n",
       "      <td>NaN</td>\n",
       "    </tr>\n",
       "    <tr>\n",
       "      <th>25%</th>\n",
       "      <td>6931.250000</td>\n",
       "      <td>NaN</td>\n",
       "      <td>NaN</td>\n",
       "    </tr>\n",
       "    <tr>\n",
       "      <th>50%</th>\n",
       "      <td>68068.000000</td>\n",
       "      <td>NaN</td>\n",
       "      <td>NaN</td>\n",
       "    </tr>\n",
       "    <tr>\n",
       "      <th>75%</th>\n",
       "      <td>100293.250000</td>\n",
       "      <td>NaN</td>\n",
       "      <td>NaN</td>\n",
       "    </tr>\n",
       "    <tr>\n",
       "      <th>max</th>\n",
       "      <td>131262.000000</td>\n",
       "      <td>NaN</td>\n",
       "      <td>NaN</td>\n",
       "    </tr>\n",
       "  </tbody>\n",
       "</table>\n",
       "</div>"
      ],
      "text/plain": [
       "              movieId         title genres\n",
       "count    27278.000000         27278  27278\n",
       "unique            NaN         27262   1342\n",
       "top               NaN  Chaos (2005)  Drama\n",
       "freq              NaN             2   4520\n",
       "mean     59855.480570           NaN    NaN\n",
       "std      44429.314697           NaN    NaN\n",
       "min          1.000000           NaN    NaN\n",
       "25%       6931.250000           NaN    NaN\n",
       "50%      68068.000000           NaN    NaN\n",
       "75%     100293.250000           NaN    NaN\n",
       "max     131262.000000           NaN    NaN"
      ]
     },
     "execution_count": 5,
     "metadata": {},
     "output_type": "execute_result"
    }
   ],
   "source": [
    "movies.describe(include='all')"
   ]
  },
  {
   "cell_type": "code",
   "execution_count": 6,
   "metadata": {
    "scrolled": true
   },
   "outputs": [
    {
     "data": {
      "text/plain": [
       "movieId    False\n",
       "title      False\n",
       "genres     False\n",
       "dtype: bool"
      ]
     },
     "execution_count": 6,
     "metadata": {},
     "output_type": "execute_result"
    }
   ],
   "source": [
    "movies.isnull().any()"
   ]
  },
  {
   "cell_type": "code",
   "execution_count": 7,
   "metadata": {},
   "outputs": [
    {
     "data": {
      "text/html": [
       "<div>\n",
       "<style scoped>\n",
       "    .dataframe tbody tr th:only-of-type {\n",
       "        vertical-align: middle;\n",
       "    }\n",
       "\n",
       "    .dataframe tbody tr th {\n",
       "        vertical-align: top;\n",
       "    }\n",
       "\n",
       "    .dataframe thead th {\n",
       "        text-align: right;\n",
       "    }\n",
       "</style>\n",
       "<table border=\"1\" class=\"dataframe\">\n",
       "  <thead>\n",
       "    <tr style=\"text-align: right;\">\n",
       "      <th></th>\n",
       "      <th>movieId</th>\n",
       "      <th>title</th>\n",
       "      <th>genres</th>\n",
       "      <th>year</th>\n",
       "    </tr>\n",
       "  </thead>\n",
       "  <tbody>\n",
       "    <tr>\n",
       "      <th>0</th>\n",
       "      <td>1</td>\n",
       "      <td>Toy Story (1995)</td>\n",
       "      <td>Adventure|Animation|Children|Comedy|Fantasy</td>\n",
       "      <td>1995</td>\n",
       "    </tr>\n",
       "    <tr>\n",
       "      <th>1</th>\n",
       "      <td>2</td>\n",
       "      <td>Jumanji (1995)</td>\n",
       "      <td>Adventure|Children|Fantasy</td>\n",
       "      <td>1995</td>\n",
       "    </tr>\n",
       "    <tr>\n",
       "      <th>2</th>\n",
       "      <td>3</td>\n",
       "      <td>Grumpier Old Men (1995)</td>\n",
       "      <td>Comedy|Romance</td>\n",
       "      <td>1995</td>\n",
       "    </tr>\n",
       "    <tr>\n",
       "      <th>3</th>\n",
       "      <td>4</td>\n",
       "      <td>Waiting to Exhale (1995)</td>\n",
       "      <td>Comedy|Drama|Romance</td>\n",
       "      <td>1995</td>\n",
       "    </tr>\n",
       "    <tr>\n",
       "      <th>4</th>\n",
       "      <td>5</td>\n",
       "      <td>Father of the Bride Part II (1995)</td>\n",
       "      <td>Comedy</td>\n",
       "      <td>1995</td>\n",
       "    </tr>\n",
       "  </tbody>\n",
       "</table>\n",
       "</div>"
      ],
      "text/plain": [
       "   movieId                               title  \\\n",
       "0        1                    Toy Story (1995)   \n",
       "1        2                      Jumanji (1995)   \n",
       "2        3             Grumpier Old Men (1995)   \n",
       "3        4            Waiting to Exhale (1995)   \n",
       "4        5  Father of the Bride Part II (1995)   \n",
       "\n",
       "                                        genres  year  \n",
       "0  Adventure|Animation|Children|Comedy|Fantasy  1995  \n",
       "1                   Adventure|Children|Fantasy  1995  \n",
       "2                               Comedy|Romance  1995  \n",
       "3                         Comedy|Drama|Romance  1995  \n",
       "4                                       Comedy  1995  "
      ]
     },
     "execution_count": 7,
     "metadata": {},
     "output_type": "execute_result"
    }
   ],
   "source": [
    "# Separando los años del título\n",
    "movies['year'] =movies['title'].str.extract('.*\\((.*)\\).*',expand = False)\n",
    "movies.head(5)"
   ]
  },
  {
   "cell_type": "code",
   "execution_count": 8,
   "metadata": {
    "scrolled": true
   },
   "outputs": [
    {
     "data": {
      "text/plain": [
       "movieId    False\n",
       "title      False\n",
       "genres     False\n",
       "year        True\n",
       "dtype: bool"
      ]
     },
     "execution_count": 8,
     "metadata": {},
     "output_type": "execute_result"
    }
   ],
   "source": [
    "movies.isnull().any()"
   ]
  },
  {
   "cell_type": "code",
   "execution_count": 9,
   "metadata": {},
   "outputs": [
    {
     "name": "stdout",
     "output_type": "stream",
     "text": [
      "Ratings:\n"
     ]
    },
    {
     "data": {
      "text/html": [
       "<div>\n",
       "<style scoped>\n",
       "    .dataframe tbody tr th:only-of-type {\n",
       "        vertical-align: middle;\n",
       "    }\n",
       "\n",
       "    .dataframe tbody tr th {\n",
       "        vertical-align: top;\n",
       "    }\n",
       "\n",
       "    .dataframe thead th {\n",
       "        text-align: right;\n",
       "    }\n",
       "</style>\n",
       "<table border=\"1\" class=\"dataframe\">\n",
       "  <thead>\n",
       "    <tr style=\"text-align: right;\">\n",
       "      <th></th>\n",
       "      <th>userId</th>\n",
       "      <th>movieId</th>\n",
       "      <th>rating</th>\n",
       "      <th>timestamp</th>\n",
       "    </tr>\n",
       "  </thead>\n",
       "  <tbody>\n",
       "    <tr>\n",
       "      <th>0</th>\n",
       "      <td>1</td>\n",
       "      <td>2</td>\n",
       "      <td>3.5</td>\n",
       "      <td>1112486027</td>\n",
       "    </tr>\n",
       "    <tr>\n",
       "      <th>1</th>\n",
       "      <td>1</td>\n",
       "      <td>29</td>\n",
       "      <td>3.5</td>\n",
       "      <td>1112484676</td>\n",
       "    </tr>\n",
       "    <tr>\n",
       "      <th>2</th>\n",
       "      <td>1</td>\n",
       "      <td>32</td>\n",
       "      <td>3.5</td>\n",
       "      <td>1112484819</td>\n",
       "    </tr>\n",
       "    <tr>\n",
       "      <th>3</th>\n",
       "      <td>1</td>\n",
       "      <td>47</td>\n",
       "      <td>3.5</td>\n",
       "      <td>1112484727</td>\n",
       "    </tr>\n",
       "    <tr>\n",
       "      <th>4</th>\n",
       "      <td>1</td>\n",
       "      <td>50</td>\n",
       "      <td>3.5</td>\n",
       "      <td>1112484580</td>\n",
       "    </tr>\n",
       "  </tbody>\n",
       "</table>\n",
       "</div>"
      ],
      "text/plain": [
       "   userId  movieId  rating   timestamp\n",
       "0       1        2     3.5  1112486027\n",
       "1       1       29     3.5  1112484676\n",
       "2       1       32     3.5  1112484819\n",
       "3       1       47     3.5  1112484727\n",
       "4       1       50     3.5  1112484580"
      ]
     },
     "execution_count": 9,
     "metadata": {},
     "output_type": "execute_result"
    }
   ],
   "source": [
    "print(\"Ratings:\")\n",
    "ratings.head()"
   ]
  },
  {
   "cell_type": "code",
   "execution_count": 10,
   "metadata": {},
   "outputs": [],
   "source": [
    "del ratings['timestamp']"
   ]
  },
  {
   "cell_type": "code",
   "execution_count": 11,
   "metadata": {},
   "outputs": [
    {
     "name": "stdout",
     "output_type": "stream",
     "text": [
      "<class 'pandas.core.frame.DataFrame'>\n",
      "RangeIndex: 20000263 entries, 0 to 20000262\n",
      "Data columns (total 3 columns):\n",
      "userId     int64\n",
      "movieId    int64\n",
      "rating     float64\n",
      "dtypes: float64(1), int64(2)\n",
      "memory usage: 457.8 MB\n"
     ]
    }
   ],
   "source": [
    "ratings.info()"
   ]
  },
  {
   "cell_type": "code",
   "execution_count": 12,
   "metadata": {},
   "outputs": [
    {
     "name": "stdout",
     "output_type": "stream",
     "text": [
      "Ratings:\n"
     ]
    },
    {
     "data": {
      "text/html": [
       "<div>\n",
       "<style scoped>\n",
       "    .dataframe tbody tr th:only-of-type {\n",
       "        vertical-align: middle;\n",
       "    }\n",
       "\n",
       "    .dataframe tbody tr th {\n",
       "        vertical-align: top;\n",
       "    }\n",
       "\n",
       "    .dataframe thead th {\n",
       "        text-align: right;\n",
       "    }\n",
       "</style>\n",
       "<table border=\"1\" class=\"dataframe\">\n",
       "  <thead>\n",
       "    <tr style=\"text-align: right;\">\n",
       "      <th></th>\n",
       "      <th>userId</th>\n",
       "      <th>movieId</th>\n",
       "      <th>rating</th>\n",
       "    </tr>\n",
       "  </thead>\n",
       "  <tbody>\n",
       "    <tr>\n",
       "      <th>0</th>\n",
       "      <td>1</td>\n",
       "      <td>2</td>\n",
       "      <td>3.5</td>\n",
       "    </tr>\n",
       "    <tr>\n",
       "      <th>1</th>\n",
       "      <td>1</td>\n",
       "      <td>29</td>\n",
       "      <td>3.5</td>\n",
       "    </tr>\n",
       "    <tr>\n",
       "      <th>2</th>\n",
       "      <td>1</td>\n",
       "      <td>32</td>\n",
       "      <td>3.5</td>\n",
       "    </tr>\n",
       "    <tr>\n",
       "      <th>3</th>\n",
       "      <td>1</td>\n",
       "      <td>47</td>\n",
       "      <td>3.5</td>\n",
       "    </tr>\n",
       "    <tr>\n",
       "      <th>4</th>\n",
       "      <td>1</td>\n",
       "      <td>50</td>\n",
       "      <td>3.5</td>\n",
       "    </tr>\n",
       "  </tbody>\n",
       "</table>\n",
       "</div>"
      ],
      "text/plain": [
       "   userId  movieId  rating\n",
       "0       1        2     3.5\n",
       "1       1       29     3.5\n",
       "2       1       32     3.5\n",
       "3       1       47     3.5\n",
       "4       1       50     3.5"
      ]
     },
     "execution_count": 12,
     "metadata": {},
     "output_type": "execute_result"
    }
   ],
   "source": [
    "print(\"Ratings:\")\n",
    "ratings.head()"
   ]
  },
  {
   "cell_type": "code",
   "execution_count": 13,
   "metadata": {},
   "outputs": [
    {
     "data": {
      "text/html": [
       "<div>\n",
       "<style scoped>\n",
       "    .dataframe tbody tr th:only-of-type {\n",
       "        vertical-align: middle;\n",
       "    }\n",
       "\n",
       "    .dataframe tbody tr th {\n",
       "        vertical-align: top;\n",
       "    }\n",
       "\n",
       "    .dataframe thead th {\n",
       "        text-align: right;\n",
       "    }\n",
       "</style>\n",
       "<table border=\"1\" class=\"dataframe\">\n",
       "  <thead>\n",
       "    <tr style=\"text-align: right;\">\n",
       "      <th></th>\n",
       "      <th>userId</th>\n",
       "      <th>movieId</th>\n",
       "      <th>rating</th>\n",
       "    </tr>\n",
       "  </thead>\n",
       "  <tbody>\n",
       "    <tr>\n",
       "      <th>count</th>\n",
       "      <td>2.000026e+07</td>\n",
       "      <td>2.000026e+07</td>\n",
       "      <td>2.000026e+07</td>\n",
       "    </tr>\n",
       "    <tr>\n",
       "      <th>mean</th>\n",
       "      <td>6.904587e+04</td>\n",
       "      <td>9.041567e+03</td>\n",
       "      <td>3.525529e+00</td>\n",
       "    </tr>\n",
       "    <tr>\n",
       "      <th>std</th>\n",
       "      <td>4.003863e+04</td>\n",
       "      <td>1.978948e+04</td>\n",
       "      <td>1.051989e+00</td>\n",
       "    </tr>\n",
       "    <tr>\n",
       "      <th>min</th>\n",
       "      <td>1.000000e+00</td>\n",
       "      <td>1.000000e+00</td>\n",
       "      <td>5.000000e-01</td>\n",
       "    </tr>\n",
       "    <tr>\n",
       "      <th>25%</th>\n",
       "      <td>3.439500e+04</td>\n",
       "      <td>9.020000e+02</td>\n",
       "      <td>3.000000e+00</td>\n",
       "    </tr>\n",
       "    <tr>\n",
       "      <th>50%</th>\n",
       "      <td>6.914100e+04</td>\n",
       "      <td>2.167000e+03</td>\n",
       "      <td>3.500000e+00</td>\n",
       "    </tr>\n",
       "    <tr>\n",
       "      <th>75%</th>\n",
       "      <td>1.036370e+05</td>\n",
       "      <td>4.770000e+03</td>\n",
       "      <td>4.000000e+00</td>\n",
       "    </tr>\n",
       "    <tr>\n",
       "      <th>max</th>\n",
       "      <td>1.384930e+05</td>\n",
       "      <td>1.312620e+05</td>\n",
       "      <td>5.000000e+00</td>\n",
       "    </tr>\n",
       "  </tbody>\n",
       "</table>\n",
       "</div>"
      ],
      "text/plain": [
       "             userId       movieId        rating\n",
       "count  2.000026e+07  2.000026e+07  2.000026e+07\n",
       "mean   6.904587e+04  9.041567e+03  3.525529e+00\n",
       "std    4.003863e+04  1.978948e+04  1.051989e+00\n",
       "min    1.000000e+00  1.000000e+00  5.000000e-01\n",
       "25%    3.439500e+04  9.020000e+02  3.000000e+00\n",
       "50%    6.914100e+04  2.167000e+03  3.500000e+00\n",
       "75%    1.036370e+05  4.770000e+03  4.000000e+00\n",
       "max    1.384930e+05  1.312620e+05  5.000000e+00"
      ]
     },
     "execution_count": 13,
     "metadata": {},
     "output_type": "execute_result"
    }
   ],
   "source": [
    "ratings.describe()"
   ]
  },
  {
   "cell_type": "code",
   "execution_count": 14,
   "metadata": {
    "scrolled": true
   },
   "outputs": [
    {
     "data": {
      "text/plain": [
       "userId     False\n",
       "movieId    False\n",
       "rating     False\n",
       "dtype: bool"
      ]
     },
     "execution_count": 14,
     "metadata": {},
     "output_type": "execute_result"
    }
   ],
   "source": [
    "ratings.isnull().any()"
   ]
  },
  {
   "cell_type": "code",
   "execution_count": 15,
   "metadata": {},
   "outputs": [],
   "source": [
    "#here we  make census of the genres:\n",
    "genre_labels = set()\n",
    "for s in movies['genres'].str.split('|').values:\n",
    "    genre_labels = genre_labels.union(set(s))"
   ]
  },
  {
   "cell_type": "code",
   "execution_count": 16,
   "metadata": {
    "scrolled": true
   },
   "outputs": [
    {
     "data": {
      "text/plain": [
       "{'(no genres listed)',\n",
       " 'Action',\n",
       " 'Adventure',\n",
       " 'Animation',\n",
       " 'Children',\n",
       " 'Comedy',\n",
       " 'Crime',\n",
       " 'Documentary',\n",
       " 'Drama',\n",
       " 'Fantasy',\n",
       " 'Film-Noir',\n",
       " 'Horror',\n",
       " 'IMAX',\n",
       " 'Musical',\n",
       " 'Mystery',\n",
       " 'Romance',\n",
       " 'Sci-Fi',\n",
       " 'Thriller',\n",
       " 'War',\n",
       " 'Western'}"
      ]
     },
     "execution_count": 16,
     "metadata": {},
     "output_type": "execute_result"
    }
   ],
   "source": [
    "genre_labels"
   ]
  },
  {
   "cell_type": "markdown",
   "metadata": {},
   "source": [
    "Es posible hacer las siguientes observaciones:\n",
    "\n",
    "Dataset Movies:\n",
    "1. Contiene 27278 datos.\n",
    "2. El feature \"movieID\" es un valor único para cada película que se describe en \"title\" y \"genre\".\n",
    "3. El feature \"title\" contiene el nombre de cada película y el año de estreno en cartelera.\n",
    "4. El feature \"genre\" contiene los géneros de la película. Este género no es único, si no que se encuentran muchos nombres adentro.\n",
    "5. Si no se separan los años del dataset, este no contiene datos nulos.\n",
    "\n",
    "Dataset Ratings:\n",
    "1. Contiene 20000263 datos.\n",
    "2. El feature \"userID\" indica el número de usuario. En este dataset, se poseen todos los puntajes en \"rating\" que los diferentes usuarios \"userID\" le pusieron a cada película \"movieID\". Además se observa un feature \"timestamp\" que indica cuándo se hizo la evaluación.\n",
    "3. El dataset no contiene datos nulos.\n",
    "4. Algunos géneros fueron mal colocados como \"IMAX\" o no han sido clasificadas.\n",
    "5. Se elimina el feature \"timestamp\" debido a que se considera que no aporta información significativa para hacer reglas de asociación."
   ]
  },
  {
   "cell_type": "markdown",
   "metadata": {},
   "source": [
    "  **En tercer lugar, se busca hacer reglas de asociación**"
   ]
  },
  {
   "cell_type": "markdown",
   "metadata": {},
   "source": [
    "En esta instancia, se aplica el índice zscore sobre el rating en función de la media y desvio de las puntuaciones puestas por cada usuario, debido a que las puntuaciones tienen una carga subjetiva asociada a cada usuario, el modo de evaluar las peliculas. Una vez estandarizado el rating, se filtra con el rating por encima de 1, ya que la película se encuentra por arriba de la media en una desviación. De este modo, el dataset se ve disminuido considerablemente y aumentan las chances de recomendar una película que le pueda gustar al usuario."
   ]
  },
  {
   "cell_type": "code",
   "execution_count": 17,
   "metadata": {},
   "outputs": [],
   "source": [
    "# calculo un zscore por usuario\n",
    "medias = ratings['rating'].groupby(ratings.userId).mean()\n",
    "desviaciones = ratings['rating'].groupby(ratings.userId).std()"
   ]
  },
  {
   "cell_type": "code",
   "execution_count": 18,
   "metadata": {},
   "outputs": [],
   "source": [
    "ratings['medias'] = ratings['userId'].apply(lambda userid: medias[userid])"
   ]
  },
  {
   "cell_type": "code",
   "execution_count": 19,
   "metadata": {},
   "outputs": [],
   "source": [
    "ratings['desviaciones'] = ratings['userId'].apply(lambda userid: desviaciones[userid])"
   ]
  },
  {
   "cell_type": "code",
   "execution_count": 20,
   "metadata": {},
   "outputs": [],
   "source": [
    "ratings['ratingNorm'] = (ratings.rating-ratings.medias)/ratings.desviaciones"
   ]
  },
  {
   "cell_type": "code",
   "execution_count": 21,
   "metadata": {},
   "outputs": [
    {
     "data": {
      "text/html": [
       "<div>\n",
       "<style scoped>\n",
       "    .dataframe tbody tr th:only-of-type {\n",
       "        vertical-align: middle;\n",
       "    }\n",
       "\n",
       "    .dataframe tbody tr th {\n",
       "        vertical-align: top;\n",
       "    }\n",
       "\n",
       "    .dataframe thead th {\n",
       "        text-align: right;\n",
       "    }\n",
       "</style>\n",
       "<table border=\"1\" class=\"dataframe\">\n",
       "  <thead>\n",
       "    <tr style=\"text-align: right;\">\n",
       "      <th></th>\n",
       "      <th>userId</th>\n",
       "      <th>movieId</th>\n",
       "      <th>rating</th>\n",
       "      <th>medias</th>\n",
       "      <th>desviaciones</th>\n",
       "      <th>ratingNorm</th>\n",
       "    </tr>\n",
       "  </thead>\n",
       "  <tbody>\n",
       "    <tr>\n",
       "      <th>0</th>\n",
       "      <td>1</td>\n",
       "      <td>2</td>\n",
       "      <td>3.5</td>\n",
       "      <td>3.742857</td>\n",
       "      <td>0.382284</td>\n",
       "      <td>-0.635279</td>\n",
       "    </tr>\n",
       "    <tr>\n",
       "      <th>1</th>\n",
       "      <td>1</td>\n",
       "      <td>29</td>\n",
       "      <td>3.5</td>\n",
       "      <td>3.742857</td>\n",
       "      <td>0.382284</td>\n",
       "      <td>-0.635279</td>\n",
       "    </tr>\n",
       "    <tr>\n",
       "      <th>2</th>\n",
       "      <td>1</td>\n",
       "      <td>32</td>\n",
       "      <td>3.5</td>\n",
       "      <td>3.742857</td>\n",
       "      <td>0.382284</td>\n",
       "      <td>-0.635279</td>\n",
       "    </tr>\n",
       "    <tr>\n",
       "      <th>3</th>\n",
       "      <td>1</td>\n",
       "      <td>47</td>\n",
       "      <td>3.5</td>\n",
       "      <td>3.742857</td>\n",
       "      <td>0.382284</td>\n",
       "      <td>-0.635279</td>\n",
       "    </tr>\n",
       "    <tr>\n",
       "      <th>4</th>\n",
       "      <td>1</td>\n",
       "      <td>50</td>\n",
       "      <td>3.5</td>\n",
       "      <td>3.742857</td>\n",
       "      <td>0.382284</td>\n",
       "      <td>-0.635279</td>\n",
       "    </tr>\n",
       "  </tbody>\n",
       "</table>\n",
       "</div>"
      ],
      "text/plain": [
       "   userId  movieId  rating    medias  desviaciones  ratingNorm\n",
       "0       1        2     3.5  3.742857      0.382284   -0.635279\n",
       "1       1       29     3.5  3.742857      0.382284   -0.635279\n",
       "2       1       32     3.5  3.742857      0.382284   -0.635279\n",
       "3       1       47     3.5  3.742857      0.382284   -0.635279\n",
       "4       1       50     3.5  3.742857      0.382284   -0.635279"
      ]
     },
     "execution_count": 21,
     "metadata": {},
     "output_type": "execute_result"
    }
   ],
   "source": [
    "ratings.head()"
   ]
  },
  {
   "cell_type": "code",
   "execution_count": 22,
   "metadata": {},
   "outputs": [
    {
     "data": {
      "text/html": [
       "<div>\n",
       "<style scoped>\n",
       "    .dataframe tbody tr th:only-of-type {\n",
       "        vertical-align: middle;\n",
       "    }\n",
       "\n",
       "    .dataframe tbody tr th {\n",
       "        vertical-align: top;\n",
       "    }\n",
       "\n",
       "    .dataframe thead th {\n",
       "        text-align: right;\n",
       "    }\n",
       "</style>\n",
       "<table border=\"1\" class=\"dataframe\">\n",
       "  <thead>\n",
       "    <tr style=\"text-align: right;\">\n",
       "      <th></th>\n",
       "      <th>userId</th>\n",
       "      <th>movieId</th>\n",
       "      <th>rating</th>\n",
       "      <th>medias</th>\n",
       "      <th>desviaciones</th>\n",
       "      <th>ratingNorm</th>\n",
       "    </tr>\n",
       "  </thead>\n",
       "  <tbody>\n",
       "    <tr>\n",
       "      <th>30</th>\n",
       "      <td>1</td>\n",
       "      <td>1196</td>\n",
       "      <td>4.5</td>\n",
       "      <td>3.742857</td>\n",
       "      <td>0.382284</td>\n",
       "      <td>1.980576</td>\n",
       "    </tr>\n",
       "    <tr>\n",
       "      <th>31</th>\n",
       "      <td>1</td>\n",
       "      <td>1198</td>\n",
       "      <td>4.5</td>\n",
       "      <td>3.742857</td>\n",
       "      <td>0.382284</td>\n",
       "      <td>1.980576</td>\n",
       "    </tr>\n",
       "    <tr>\n",
       "      <th>131</th>\n",
       "      <td>1</td>\n",
       "      <td>4993</td>\n",
       "      <td>5.0</td>\n",
       "      <td>3.742857</td>\n",
       "      <td>0.382284</td>\n",
       "      <td>3.288503</td>\n",
       "    </tr>\n",
       "    <tr>\n",
       "      <th>142</th>\n",
       "      <td>1</td>\n",
       "      <td>5952</td>\n",
       "      <td>5.0</td>\n",
       "      <td>3.742857</td>\n",
       "      <td>0.382284</td>\n",
       "      <td>3.288503</td>\n",
       "    </tr>\n",
       "    <tr>\n",
       "      <th>158</th>\n",
       "      <td>1</td>\n",
       "      <td>7153</td>\n",
       "      <td>5.0</td>\n",
       "      <td>3.742857</td>\n",
       "      <td>0.382284</td>\n",
       "      <td>3.288503</td>\n",
       "    </tr>\n",
       "  </tbody>\n",
       "</table>\n",
       "</div>"
      ],
      "text/plain": [
       "     userId  movieId  rating    medias  desviaciones  ratingNorm\n",
       "30        1     1196     4.5  3.742857      0.382284    1.980576\n",
       "31        1     1198     4.5  3.742857      0.382284    1.980576\n",
       "131       1     4993     5.0  3.742857      0.382284    3.288503\n",
       "142       1     5952     5.0  3.742857      0.382284    3.288503\n",
       "158       1     7153     5.0  3.742857      0.382284    3.288503"
      ]
     },
     "execution_count": 22,
     "metadata": {},
     "output_type": "execute_result"
    }
   ],
   "source": [
    "sample = ratings[ratings.ratingNorm > 1]\n",
    "sample.head()"
   ]
  },
  {
   "cell_type": "code",
   "execution_count": 23,
   "metadata": {},
   "outputs": [
    {
     "data": {
      "text/html": [
       "<div>\n",
       "<style scoped>\n",
       "    .dataframe tbody tr th:only-of-type {\n",
       "        vertical-align: middle;\n",
       "    }\n",
       "\n",
       "    .dataframe tbody tr th {\n",
       "        vertical-align: top;\n",
       "    }\n",
       "\n",
       "    .dataframe thead th {\n",
       "        text-align: right;\n",
       "    }\n",
       "</style>\n",
       "<table border=\"1\" class=\"dataframe\">\n",
       "  <thead>\n",
       "    <tr style=\"text-align: right;\">\n",
       "      <th></th>\n",
       "      <th>userId</th>\n",
       "      <th>movieId</th>\n",
       "      <th>title</th>\n",
       "    </tr>\n",
       "  </thead>\n",
       "  <tbody>\n",
       "    <tr>\n",
       "      <th>0</th>\n",
       "      <td>1</td>\n",
       "      <td>1196</td>\n",
       "      <td>Star Wars: Episode V - The Empire Strikes Back...</td>\n",
       "    </tr>\n",
       "    <tr>\n",
       "      <th>1</th>\n",
       "      <td>7</td>\n",
       "      <td>1196</td>\n",
       "      <td>Star Wars: Episode V - The Empire Strikes Back...</td>\n",
       "    </tr>\n",
       "    <tr>\n",
       "      <th>2</th>\n",
       "      <td>21</td>\n",
       "      <td>1196</td>\n",
       "      <td>Star Wars: Episode V - The Empire Strikes Back...</td>\n",
       "    </tr>\n",
       "    <tr>\n",
       "      <th>3</th>\n",
       "      <td>24</td>\n",
       "      <td>1196</td>\n",
       "      <td>Star Wars: Episode V - The Empire Strikes Back...</td>\n",
       "    </tr>\n",
       "    <tr>\n",
       "      <th>4</th>\n",
       "      <td>31</td>\n",
       "      <td>1196</td>\n",
       "      <td>Star Wars: Episode V - The Empire Strikes Back...</td>\n",
       "    </tr>\n",
       "    <tr>\n",
       "      <th>5</th>\n",
       "      <td>51</td>\n",
       "      <td>1196</td>\n",
       "      <td>Star Wars: Episode V - The Empire Strikes Back...</td>\n",
       "    </tr>\n",
       "    <tr>\n",
       "      <th>6</th>\n",
       "      <td>55</td>\n",
       "      <td>1196</td>\n",
       "      <td>Star Wars: Episode V - The Empire Strikes Back...</td>\n",
       "    </tr>\n",
       "    <tr>\n",
       "      <th>7</th>\n",
       "      <td>56</td>\n",
       "      <td>1196</td>\n",
       "      <td>Star Wars: Episode V - The Empire Strikes Back...</td>\n",
       "    </tr>\n",
       "    <tr>\n",
       "      <th>8</th>\n",
       "      <td>69</td>\n",
       "      <td>1196</td>\n",
       "      <td>Star Wars: Episode V - The Empire Strikes Back...</td>\n",
       "    </tr>\n",
       "    <tr>\n",
       "      <th>9</th>\n",
       "      <td>77</td>\n",
       "      <td>1196</td>\n",
       "      <td>Star Wars: Episode V - The Empire Strikes Back...</td>\n",
       "    </tr>\n",
       "    <tr>\n",
       "      <th>10</th>\n",
       "      <td>78</td>\n",
       "      <td>1196</td>\n",
       "      <td>Star Wars: Episode V - The Empire Strikes Back...</td>\n",
       "    </tr>\n",
       "    <tr>\n",
       "      <th>11</th>\n",
       "      <td>91</td>\n",
       "      <td>1196</td>\n",
       "      <td>Star Wars: Episode V - The Empire Strikes Back...</td>\n",
       "    </tr>\n",
       "    <tr>\n",
       "      <th>12</th>\n",
       "      <td>104</td>\n",
       "      <td>1196</td>\n",
       "      <td>Star Wars: Episode V - The Empire Strikes Back...</td>\n",
       "    </tr>\n",
       "    <tr>\n",
       "      <th>13</th>\n",
       "      <td>116</td>\n",
       "      <td>1196</td>\n",
       "      <td>Star Wars: Episode V - The Empire Strikes Back...</td>\n",
       "    </tr>\n",
       "    <tr>\n",
       "      <th>14</th>\n",
       "      <td>130</td>\n",
       "      <td>1196</td>\n",
       "      <td>Star Wars: Episode V - The Empire Strikes Back...</td>\n",
       "    </tr>\n",
       "    <tr>\n",
       "      <th>15</th>\n",
       "      <td>134</td>\n",
       "      <td>1196</td>\n",
       "      <td>Star Wars: Episode V - The Empire Strikes Back...</td>\n",
       "    </tr>\n",
       "    <tr>\n",
       "      <th>16</th>\n",
       "      <td>137</td>\n",
       "      <td>1196</td>\n",
       "      <td>Star Wars: Episode V - The Empire Strikes Back...</td>\n",
       "    </tr>\n",
       "    <tr>\n",
       "      <th>17</th>\n",
       "      <td>156</td>\n",
       "      <td>1196</td>\n",
       "      <td>Star Wars: Episode V - The Empire Strikes Back...</td>\n",
       "    </tr>\n",
       "    <tr>\n",
       "      <th>18</th>\n",
       "      <td>157</td>\n",
       "      <td>1196</td>\n",
       "      <td>Star Wars: Episode V - The Empire Strikes Back...</td>\n",
       "    </tr>\n",
       "    <tr>\n",
       "      <th>19</th>\n",
       "      <td>215</td>\n",
       "      <td>1196</td>\n",
       "      <td>Star Wars: Episode V - The Empire Strikes Back...</td>\n",
       "    </tr>\n",
       "  </tbody>\n",
       "</table>\n",
       "</div>"
      ],
      "text/plain": [
       "    userId  movieId                                              title\n",
       "0        1     1196  Star Wars: Episode V - The Empire Strikes Back...\n",
       "1        7     1196  Star Wars: Episode V - The Empire Strikes Back...\n",
       "2       21     1196  Star Wars: Episode V - The Empire Strikes Back...\n",
       "3       24     1196  Star Wars: Episode V - The Empire Strikes Back...\n",
       "4       31     1196  Star Wars: Episode V - The Empire Strikes Back...\n",
       "5       51     1196  Star Wars: Episode V - The Empire Strikes Back...\n",
       "6       55     1196  Star Wars: Episode V - The Empire Strikes Back...\n",
       "7       56     1196  Star Wars: Episode V - The Empire Strikes Back...\n",
       "8       69     1196  Star Wars: Episode V - The Empire Strikes Back...\n",
       "9       77     1196  Star Wars: Episode V - The Empire Strikes Back...\n",
       "10      78     1196  Star Wars: Episode V - The Empire Strikes Back...\n",
       "11      91     1196  Star Wars: Episode V - The Empire Strikes Back...\n",
       "12     104     1196  Star Wars: Episode V - The Empire Strikes Back...\n",
       "13     116     1196  Star Wars: Episode V - The Empire Strikes Back...\n",
       "14     130     1196  Star Wars: Episode V - The Empire Strikes Back...\n",
       "15     134     1196  Star Wars: Episode V - The Empire Strikes Back...\n",
       "16     137     1196  Star Wars: Episode V - The Empire Strikes Back...\n",
       "17     156     1196  Star Wars: Episode V - The Empire Strikes Back...\n",
       "18     157     1196  Star Wars: Episode V - The Empire Strikes Back...\n",
       "19     215     1196  Star Wars: Episode V - The Empire Strikes Back..."
      ]
     },
     "metadata": {},
     "output_type": "display_data"
    }
   ],
   "source": [
    "#decodificar el nombre de las peliculas\n",
    "movies_df = pd.merge(sample[['userId','movieId']], movies[['movieId','title']] ,on='movieId', how= \"inner\")\n",
    "\n",
    "display(movies_df.head(20))"
   ]
  },
  {
   "cell_type": "code",
   "execution_count": 24,
   "metadata": {},
   "outputs": [
    {
     "name": "stdout",
     "output_type": "stream",
     "text": [
      "         userId  movieId                                              title\n",
      "0             1     1196  Star Wars: Episode V - The Empire Strikes Back...\n",
      "16285         1     1198  Raiders of the Lost Ark (Indiana Jones and the...\n",
      "31101         1     4993  Lord of the Rings: The Fellowship of the Ring,...\n",
      "44980         1     5952      Lord of the Rings: The Two Towers, The (2002)\n",
      "68553         1     8636                                Spider-Man 2 (2004)\n",
      "...         ...      ...                                                ...\n",
      "3094414  138493     5720  Friend Is a Treasure, A (Chi Trova Un Amico, T...\n",
      "2815895  138493    47465                                    Tideland (2005)\n",
      "2589031  138493     2843  Black Cat, White Cat (Crna macka, beli macor) ...\n",
      "2387478  138493     2787                                   Cat's Eye (1985)\n",
      "1324475  138493     3949                         Requiem for a Dream (2000)\n",
      "\n",
      "[3095998 rows x 3 columns]\n"
     ]
    }
   ],
   "source": [
    "movies_df = movies_df.sort_values( by='userId', axis=0, ascending=True, \n",
    "                                    inplace=False, kind='quicksort', \n",
    "                                    na_position='last')\n",
    "print(movies_df)"
   ]
  },
  {
   "cell_type": "code",
   "execution_count": 25,
   "metadata": {},
   "outputs": [
    {
     "name": "stdout",
     "output_type": "stream",
     "text": [
      "[[1 'Star Wars: Episode V - The Empire Strikes Back (1980)']\n",
      " [1\n",
      "  'Raiders of the Lost Ark (Indiana Jones and the Raiders of the Lost Ark) (1981)']\n",
      " [1 'Lord of the Rings: The Fellowship of the Ring, The (2001)']\n",
      " ...\n",
      " [138493 'Black Cat, White Cat (Crna macka, beli macor) (1998)']\n",
      " [138493 \"Cat's Eye (1985)\"]\n",
      " [138493 'Requiem for a Dream (2000)']]\n"
     ]
    }
   ],
   "source": [
    "ratings_2 = movies_df.values[:,[0,2]]\n",
    "print(ratings_2)"
   ]
  },
  {
   "cell_type": "code",
   "execution_count": 26,
   "metadata": {},
   "outputs": [],
   "source": [
    "def transactions_generator():\n",
    "    for userId, movie_object in groupby(ratings_2, lambda x: x[0]):\n",
    "        yield [item[1] for item in movie_object]"
   ]
  },
  {
   "cell_type": "code",
   "execution_count": 27,
   "metadata": {},
   "outputs": [
    {
     "name": "stdout",
     "output_type": "stream",
     "text": [
      "{Godfather, The (1972)} -> {Godfather: Part II, The (1974)} (conf: 0.501, supp: 0.081, lift: 5.339, conv: 1.817)\n",
      "{Braveheart (1995)} -> {Shawshank Redemption, The (1994)} (conf: 0.504, supp: 0.076, lift: 1.863, conv: 1.471)\n",
      "{Usual Suspects, The (1995)} -> {Pulp Fiction (1994)} (conf: 0.511, supp: 0.089, lift: 2.160, conv: 1.562)\n",
      "{Schindler's List (1993)} -> {Shawshank Redemption, The (1994)} (conf: 0.514, supp: 0.094, lift: 1.899, conv: 1.501)\n",
      "{Star Wars: Episode V - The Empire Strikes Back (1980)} -> {Star Wars: Episode VI - Return of the Jedi (1983)} (conf: 0.522, supp: 0.072, lift: 4.752, conv: 1.862)\n",
      "{Raiders of the Lost Ark (Indiana Jones and the Raiders of the Lost Ark) (1981)} -> {Star Wars: Episode V - The Empire Strikes Back (1980)} (conf: 0.526, supp: 0.066, lift: 3.803, conv: 1.819)\n",
      "{Usual Suspects, The (1995)} -> {Shawshank Redemption, The (1994)} (conf: 0.529, supp: 0.092, lift: 1.951, conv: 1.547)\n",
      "{Seven (a.k.a. Se7en) (1995)} -> {Shawshank Redemption, The (1994)} (conf: 0.532, supp: 0.060, lift: 1.963, conv: 1.557)\n",
      "{Star Wars: Episode IV - A New Hope (1977), Star Wars: Episode V - The Empire Strikes Back (1980)} -> {Raiders of the Lost Ark (Indiana Jones and the Raiders of the Lost Ark) (1981)} (conf: 0.535, supp: 0.053, lift: 4.247, conv: 1.879)\n",
      "{Lord of the Rings: The Fellowship of the Ring, The (2001)} -> {Lord of the Rings: The Return of the King, The (2003), Lord of the Rings: The Two Towers, The (2002)} (conf: 0.537, supp: 0.063, lift: 7.564, conv: 2.007)\n",
      "{Star Wars: Episode IV - A New Hope (1977)} -> {Star Wars: Episode V - The Empire Strikes Back (1980)} (conf: 0.560, supp: 0.099, lift: 4.043, conv: 1.956)\n",
      "{Star Wars: Episode VI - Return of the Jedi (1983)} -> {Star Wars: Episode IV - A New Hope (1977), Star Wars: Episode V - The Empire Strikes Back (1980)} (conf: 0.564, supp: 0.062, lift: 5.710, conv: 2.065)\n",
      "{Seven (a.k.a. Se7en) (1995)} -> {Pulp Fiction (1994)} (conf: 0.565, supp: 0.064, lift: 2.388, conv: 1.755)\n",
      "{Raiders of the Lost Ark (Indiana Jones and the Raiders of the Lost Ark) (1981)} -> {Star Wars: Episode IV - A New Hope (1977)} (conf: 0.566, supp: 0.071, lift: 3.207, conv: 1.896)\n",
      "{Shawshank Redemption, The (1994), Usual Suspects, The (1995)} -> {Pulp Fiction (1994)} (conf: 0.566, supp: 0.052, lift: 2.392, conv: 1.758)\n",
      "{Pulp Fiction (1994), Usual Suspects, The (1995)} -> {Shawshank Redemption, The (1994)} (conf: 0.585, supp: 0.052, lift: 2.160, conv: 1.757)\n",
      "{Star Wars: Episode IV - A New Hope (1977), Star Wars: Episode V - The Empire Strikes Back (1980)} -> {Star Wars: Episode VI - Return of the Jedi (1983)} (conf: 0.627, supp: 0.062, lift: 5.710, conv: 2.388)\n",
      "{Lord of the Rings: The Fellowship of the Ring, The (2001)} -> {Lord of the Rings: The Return of the King, The (2003)} (conf: 0.632, supp: 0.075, lift: 6.418, conv: 2.450)\n",
      "{Lord of the Rings: The Two Towers, The (2002)} -> {Lord of the Rings: The Fellowship of the Ring, The (2001), Lord of the Rings: The Return of the King, The (2003)} (conf: 0.636, supp: 0.063, lift: 8.530, conv: 2.542)\n",
      "{Lord of the Rings: The Return of the King, The (2003)} -> {Lord of the Rings: The Fellowship of the Ring, The (2001), Lord of the Rings: The Two Towers, The (2002)} (conf: 0.643, supp: 0.063, lift: 8.217, conv: 2.583)\n",
      "{Star Wars: Episode VI - Return of the Jedi (1983)} -> {Star Wars: Episode V - The Empire Strikes Back (1980)} (conf: 0.658, supp: 0.072, lift: 4.752, conv: 2.517)\n",
      "{Lord of the Rings: The Fellowship of the Ring, The (2001)} -> {Lord of the Rings: The Two Towers, The (2002)} (conf: 0.664, supp: 0.078, lift: 6.663, conv: 2.677)\n",
      "{Lord of the Rings: The Two Towers, The (2002)} -> {Lord of the Rings: The Return of the King, The (2003)} (conf: 0.713, supp: 0.071, lift: 7.238, conv: 3.139)\n",
      "{Star Wars: Episode V - The Empire Strikes Back (1980)} -> {Star Wars: Episode IV - A New Hope (1977)} (conf: 0.713, supp: 0.099, lift: 4.043, conv: 2.871)\n",
      "{Lord of the Rings: The Return of the King, The (2003)} -> {Lord of the Rings: The Two Towers, The (2002)} (conf: 0.721, supp: 0.071, lift: 7.238, conv: 3.227)\n",
      "{Reservoir Dogs (1992)} -> {Pulp Fiction (1994)} (conf: 0.730, supp: 0.051, lift: 3.086, conv: 2.829)\n",
      "{Raiders of the Lost Ark (Indiana Jones and the Raiders of the Lost Ark) (1981), Star Wars: Episode IV - A New Hope (1977)} -> {Star Wars: Episode V - The Empire Strikes Back (1980)} (conf: 0.741, supp: 0.053, lift: 5.354, conv: 3.326)\n",
      "{Star Wars: Episode IV - A New Hope (1977), Star Wars: Episode VI - Return of the Jedi (1983)} -> {Star Wars: Episode V - The Empire Strikes Back (1980)} (conf: 0.748, supp: 0.062, lift: 5.405, conv: 3.420)\n",
      "{Star Wars: Episode VI - Return of the Jedi (1983)} -> {Star Wars: Episode IV - A New Hope (1977)} (conf: 0.753, supp: 0.083, lift: 4.271, conv: 3.339)\n",
      "{Lord of the Rings: The Return of the King, The (2003)} -> {Lord of the Rings: The Fellowship of the Ring, The (2001)} (conf: 0.757, supp: 0.075, lift: 6.418, conv: 3.630)\n",
      "{Lord of the Rings: The Two Towers, The (2002)} -> {Lord of the Rings: The Fellowship of the Ring, The (2001)} (conf: 0.786, supp: 0.078, lift: 6.663, conv: 4.119)\n",
      "{Raiders of the Lost Ark (Indiana Jones and the Raiders of the Lost Ark) (1981), Star Wars: Episode V - The Empire Strikes Back (1980)} -> {Star Wars: Episode IV - A New Hope (1977)} (conf: 0.796, supp: 0.053, lift: 4.514, conv: 4.042)\n",
      "{Lord of the Rings: The Fellowship of the Ring, The (2001), Lord of the Rings: The Two Towers, The (2002)} -> {Lord of the Rings: The Return of the King, The (2003)} (conf: 0.809, supp: 0.063, lift: 8.217, conv: 4.726)\n",
      "{Lord of the Rings: The Fellowship of the Ring, The (2001), Lord of the Rings: The Return of the King, The (2003)} -> {Lord of the Rings: The Two Towers, The (2002)} (conf: 0.850, supp: 0.063, lift: 8.530, conv: 5.989)\n",
      "{Star Wars: Episode V - The Empire Strikes Back (1980), Star Wars: Episode VI - Return of the Jedi (1983)} -> {Star Wars: Episode IV - A New Hope (1977)} (conf: 0.857, supp: 0.062, lift: 4.858, conv: 5.757)\n",
      "{Godfather: Part II, The (1974)} -> {Godfather, The (1972)} (conf: 0.861, supp: 0.081, lift: 5.339, conv: 6.042)\n",
      "{Lord of the Rings: The Return of the King, The (2003), Lord of the Rings: The Two Towers, The (2002)} -> {Lord of the Rings: The Fellowship of the Ring, The (2001)} (conf: 0.892, supp: 0.063, lift: 7.564, conv: 8.179)\n"
     ]
    }
   ],
   "source": [
    "trans_gen = transactions_generator()\n",
    "\n",
    "itemsets, rules = apriori(trans_gen, min_support=0.05,  min_confidence=0.5)\n",
    "\n",
    "rules=sorted(rules, key=lambda rule: rule.confidence)\n",
    "for rule in rules:\n",
    "    print(rule) # Prints the rule and its confidence, support, lift, ..."
   ]
  },
  {
   "cell_type": "markdown",
   "metadata": {},
   "source": [
    "## Informe:\n",
    "### Reglas de Asociación\n",
    "Para hacer las reglas de asociación se utilizará el método APRIORI utilizando los siguientes features:\n",
    "\n",
    "Transacciones: \"userId\"\n",
    "Items: \"movieId\" y \"title\"\n",
    "\n",
    "Se considera como transacción al usuario que ha evaluado a una serie de películas. Por lo tanto, estas películas evaluadas serán los items. \n",
    "\n",
    "https://pypi.org/project/efficient-apriori/\n",
    "\n",
    "Como tenemos muchos datos, para almacenar las transacciones debemos usar un generador de listas en lugar de una lista de listas. El generador que defino a continuación va creando cada transacción de a una para no usar toda la memoria.\n"
   ]
  },
  {
   "cell_type": "markdown",
   "metadata": {},
   "source": [
    "### Métricas\n",
    "\n",
    "El $soporte$ de un conjunto de items $X$ en una base de datos $D$ se define como la proporción de transacciones en la base de datos que contiene dicho conjunto de items: $$ Sop(X) = \\dfrac{|X|}{|D|} $$\n",
    "\n",
    "Un valor alto de soporte indica que la regla se encuentra en muchas transacciones. Por otro lado, una regla con soporte bajo, podría ser casualidad.\n",
    "\n",
    "La confianza de esta regla se define como: $$ Conf(X \\Rightarrow Y) = \\dfrac{Sop(X \\cap Y)}{Sop(X)} = \\dfrac{|X \\cap Y|}{|X|}$$\n",
    "\n",
    "Es decir, el porcentaje de transacciones que contienen $Y$, entre las transacciones que contienen $X$. El significado de un mayor valor de confianza indica mayor probabilidad de que la regla sea cierta para una transacción. Si una regla tiene baja confianza, es probable que no exista relación entre antecedente y consecuente.\n",
    "\n",
    "Cabe aclarar que, tanto el soporte como la confianza son probabilidades, por lo tanto sus valores varían entre 0 y 1.\n",
    "\n",
    "El indicador lift expresa cuál es la proporción del soporte observado de un conjunto de productos respecto del soporte teórico de ese conjunto dado el supuesto de independencia. El lift está dado por las siguientes fórmulas equivalentes:\n",
    "\n",
    "$$ Lift =   \\dfrac{Sop(X \\Rightarrow Y)}{Sop(X) \\times Sop(Y)} = \\dfrac{P(X \\cup Y)}{P(X) \\times P(Y)} = \\dfrac{N \\times frec(X,Y)}{frec(X) \\times frec(Y)}$$\n",
    "\n",
    "Un valor de lift = 1 indica que ese conjunto aparece una cantidad de veces acorde a lo esperado bajo condiciones de independencia. Un valor de lift > 1 indica que ese conjunto aparece una cantidad de veces superior a lo esperado bajo condiciones de independencia (por lo que se puede intuir que existe una relación que hace que los productos se encuentren en el conjunto más veces de lo normal). Un valor de lift < 1 indica que ese conjunto aparece una cantidad de veces inferior a lo esperado bajo condiciones de independencia (por lo que se puede intuir que existe una relación que hace que los productos no estén formando parte del mismo conjunto más veces de lo normal).\n",
    "\n",
    "La convicción expresa que tan independientes son las variables $X$ y $¬Y$,\n",
    "\n",
    "$$ Conv = \\dfrac{1 - Sop(Y)}{1 - Conf(X \\Rightarrow Y)} = \\dfrac{frec(X) \\times frec(¬Y)}{frec(X, ¬Y)} $$\n",
    "donde $frec(¬Y)$ es la cantidad de transacciones en la base de datos que no contienen a $Y$ y $frec(X, ¬Y)$ es la cantidad de transacciones en la base de datos que contienen a $X$ y no contienen a $Y$.\n",
    "\n",
    "La convicción va de 1 a infinito (si la confianza es 1, la convicción es infinita, no 0). Más convicción indica mayor grado de implicación. Altos valores para convicción (cuando $frec(X, ¬Y)$ tiende a cero) afirman la convicción de que esta regla representa una causalidad."
   ]
  },
  {
   "cell_type": "markdown",
   "metadata": {},
   "source": [
    "### Análisis de Resultados\n",
    "\n",
    "A primera vista, al observar las películas sugeridas por el algoritmo, es posible observar que las reglas generadas tienen sentido. Como ejemplo, las películas que pertenecen a una misma cronología son sugeridas. Del mismo modo, las reglas relacionan películas de un mismo director (por ejemplo: {Reservoir Dogs (1992)} -> {Pulp Fiction (1994)}).\n",
    "\n",
    "Las reglas obtenidas están ordenadas según su confianza de menor a mayor, es decir que las primeras reglas son menos confiables que las últimas. La menor confianza obtenida fue de $0.501$, mientras que la mayor de $0.892$.\n",
    "\n",
    "Al analizar los soportes, se observa que las reglas derivadas tienen valores muy bajos. En general, el orden de magnitud resulta menor a $0.1$, indicando que las reglas de asociación se encuentran en pocas transacciones de la base de datos.\n",
    "\n",
    "Los valores de lift son mayores a 1 en todos los casos. Esto significa que, para cada regla $\\{X \\} \\Rightarrow \\{Y \\}$ derivada, $X$ e $Y$ aparecen juntos una cantidad de veces superior a lo esperado bajo condiciones de independencia, indicando que la aparición de $X$ tiene un efecto positivo sobre la aparición de $Y$.\n",
    "\n",
    "Los valores de convicción también son altos en todos los casos, indicando causalidad entre $X$ e $Y$."
   ]
  },
  {
   "cell_type": "markdown",
   "metadata": {},
   "source": [
    "### Conclusiones\n",
    "\n",
    "- El algoritmo Apriori es simple e intuitivo para obtener reglas de asociación de manera rápida y eficaz.\n",
    "- La base de datos tuvo que ser estandarizada para filtrar subjetividades propias de los usuarios. Además, se filtró la base de datos para trabajar solo con los valores mejores puntuados. Esto impactó en las recomendaciones al observarse que fuera de las recomentaciones entre películas de las mismas sacas, se recomiendan filmes clásicos taquilleros.\n",
    "- Los valores de soporte resultaron bajos indicando que las reglas de asociación fueron encontradas en pocas transacciones. Sin embargo, la confianza asociada a estas reglas resultaron elevadas (hasta 89%).\n",
    "- Por último, los valores de lift y convicción indican en general que las reglas obtenidas aparecen mayor veces de las esperadas y con un importante rasgo de causalidad."
   ]
  }
 ],
 "metadata": {
  "kernelspec": {
   "display_name": "Python 3",
   "language": "python",
   "name": "python3"
  },
  "language_info": {
   "codemirror_mode": {
    "name": "ipython",
    "version": 3
   },
   "file_extension": ".py",
   "mimetype": "text/x-python",
   "name": "python",
   "nbconvert_exporter": "python",
   "pygments_lexer": "ipython3",
   "version": "3.6.9"
  }
 },
 "nbformat": 4,
 "nbformat_minor": 2
}
